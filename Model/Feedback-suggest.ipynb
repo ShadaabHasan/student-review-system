{
 "cells": [
  {
   "cell_type": "code",
   "execution_count": 8,
   "id": "cbe6d5d9",
   "metadata": {},
   "outputs": [
    {
     "name": "stdout",
     "output_type": "stream",
     "text": [
      "Requirement already satisfied: ollama in c:\\users\\surya\\appdata\\local\\programs\\python\\python311\\lib\\site-packages (0.5.1)\n",
      "Requirement already satisfied: httpx>=0.27 in c:\\users\\surya\\appdata\\local\\programs\\python\\python311\\lib\\site-packages (from ollama) (0.28.1)\n",
      "Requirement already satisfied: pydantic>=2.9 in c:\\users\\surya\\appdata\\local\\programs\\python\\python311\\lib\\site-packages (from ollama) (2.11.5)\n",
      "Requirement already satisfied: anyio in c:\\users\\surya\\appdata\\local\\programs\\python\\python311\\lib\\site-packages (from httpx>=0.27->ollama) (4.9.0)\n",
      "Requirement already satisfied: certifi in c:\\users\\surya\\appdata\\local\\programs\\python\\python311\\lib\\site-packages (from httpx>=0.27->ollama) (2025.4.26)\n",
      "Requirement already satisfied: httpcore==1.* in c:\\users\\surya\\appdata\\local\\programs\\python\\python311\\lib\\site-packages (from httpx>=0.27->ollama) (1.0.9)\n",
      "Requirement already satisfied: idna in c:\\users\\surya\\appdata\\local\\programs\\python\\python311\\lib\\site-packages (from httpx>=0.27->ollama) (3.10)\n",
      "Requirement already satisfied: h11>=0.16 in c:\\users\\surya\\appdata\\local\\programs\\python\\python311\\lib\\site-packages (from httpcore==1.*->httpx>=0.27->ollama) (0.16.0)\n",
      "Requirement already satisfied: annotated-types>=0.6.0 in c:\\users\\surya\\appdata\\local\\programs\\python\\python311\\lib\\site-packages (from pydantic>=2.9->ollama) (0.7.0)\n",
      "Requirement already satisfied: pydantic-core==2.33.2 in c:\\users\\surya\\appdata\\local\\programs\\python\\python311\\lib\\site-packages (from pydantic>=2.9->ollama) (2.33.2)\n",
      "Requirement already satisfied: typing-extensions>=4.12.2 in c:\\users\\surya\\appdata\\roaming\\python\\python311\\site-packages (from pydantic>=2.9->ollama) (4.13.2)\n",
      "Requirement already satisfied: typing-inspection>=0.4.0 in c:\\users\\surya\\appdata\\local\\programs\\python\\python311\\lib\\site-packages (from pydantic>=2.9->ollama) (0.4.1)\n",
      "Requirement already satisfied: sniffio>=1.1 in c:\\users\\surya\\appdata\\local\\programs\\python\\python311\\lib\\site-packages (from anyio->httpx>=0.27->ollama) (1.3.1)\n",
      "Note: you may need to restart the kernel to use updated packages.\n"
     ]
    },
    {
     "name": "stderr",
     "output_type": "stream",
     "text": [
      "WARNING: Ignoring invalid distribution ~orch (c:\\Users\\Surya\\AppData\\Local\\Programs\\Python\\Python311\\Lib\\site-packages)\n",
      "WARNING: Ignoring invalid distribution ~orch (c:\\Users\\Surya\\AppData\\Local\\Programs\\Python\\Python311\\Lib\\site-packages)\n",
      "WARNING: Ignoring invalid distribution ~orch (c:\\Users\\Surya\\AppData\\Local\\Programs\\Python\\Python311\\Lib\\site-packages)\n"
     ]
    }
   ],
   "source": [
    "pip install ollama\n"
   ]
  },
  {
   "cell_type": "code",
   "execution_count": 10,
   "id": "767ba449",
   "metadata": {},
   "outputs": [
    {
     "name": "stdout",
     "output_type": "stream",
     "text": [
      "📌 Summary of Issues:\n",
      " Based on the student complaints, the key issues that emerge are:\n",
      "\n",
      "1. **Lack of effective explanation**: Students feel that the instructor's explanations are poor and don't provide sufficient examples to help them understand the material.\n",
      "2. **Slow pace of teaching**: The instructor is taking too long to cover a single topic, leading to students losing interest and attention.\n",
      "3. **Difficulty understanding teaching method**: Some students are struggling to grasp the instructor's teaching approach or methodology.\n",
      "\n",
      "These key issues suggest that students are having trouble engaging with the course material and finding it difficult to learn effectively due to the instructor's teaching style and pace.\n",
      "\n",
      "💡 Suggested Improvements (JSON):\n",
      "\n",
      "Issue: Lack of effective explanation\n",
      "Suggestion: Provide more concrete examples or visual aids to help students understand complex concepts\n",
      "\n",
      "Issue: Slow pace of teaching\n",
      "Suggestion: Break topics into smaller, manageable chunks and allow time for student questions and practice\n",
      "\n",
      "Issue: Difficulty understanding teaching method\n",
      "Suggestion: Offer additional resources or supplemental materials to help students grasp the instructor's approach\n",
      "\n"
     ]
    }
   ],
   "source": [
    "import ollama\n",
    "import json\n",
    "\n",
    "def analyze_feedback(feedback_list):\n",
    "    # Step 1: Convert the list to a single string\n",
    "    feedback_text = \"\\n\".join(f\"- {fb}\" for fb in feedback_list if fb.strip())\n",
    "\n",
    "    # Step 2: Prompt to summarize key issues\n",
    "    prompt_summary = f\"\"\"Here is a list of student complaints:\\n{feedback_text}\\n\\nSummarize these feedbacks into key issues.\"\"\"\n",
    "    \n",
    "    summary_response = ollama.chat(\n",
    "        model='llama3',\n",
    "        messages=[{\"role\": \"user\", \"content\": prompt_summary}]\n",
    "    )\n",
    "    summary = summary_response['message']['content'].strip()\n",
    "\n",
    "    # Step 3: Prompt to generate improvement suggestions in JSON\n",
    "    prompt_improve = f\"\"\"\n",
    "Here are the summarized student feedback issues:\n",
    "\n",
    "{summary}\n",
    "\n",
    "Return a JSON array where each object contains:\n",
    "- \"issue\": the specific issue\n",
    "- \"suggestion\": one actionable suggestion for that issue\n",
    "\n",
    "Respond ONLY with valid JSON and no additional explanation.\n",
    "\"\"\"\n",
    "    \n",
    "    suggestion_response = ollama.chat(\n",
    "        model='llama3',\n",
    "        messages=[{\"role\": \"user\", \"content\": prompt_improve}]\n",
    "    )\n",
    "    \n",
    "    suggestions_raw = suggestion_response['message']['content'].strip()\n",
    "\n",
    "    # Step 4: Try to parse JSON safely\n",
    "    try:\n",
    "        suggestions_json = json.loads(suggestions_raw)\n",
    "    except json.JSONDecodeError as e:\n",
    "        print(\"⚠️ JSON parsing failed. Raw output:\")\n",
    "        print(suggestions_raw)\n",
    "        suggestions_json = []\n",
    "\n",
    "    return summary, suggestions_json\n",
    "\n",
    "# Example usage:\n",
    "negative_feedbacks = [\n",
    "    \"The instructor don't use any examples for explanation.\",\n",
    "    \"Explanation is poor.\",\n",
    "    \"The teaching is slow. They stretch the same thing for a long time, and students lose interest.\",\n",
    "    \"Not good\",\n",
    "    \"Cooperation needed with students\",\n",
    "    \"I can't understand the method of teaching\",\n",
    "    \"\"\n",
    "]\n",
    "\n",
    "summary, suggestions = analyze_feedback(negative_feedbacks)\n",
    "\n",
    "print(\"📌 Summary of Issues:\\n\", summary)\n",
    "print(\"\\n💡 Suggested Improvements (JSON):\\n\")\n",
    "for item in suggestions:\n",
    "    print(f\"Issue: {item['issue']}\\nSuggestion: {item['suggestion']}\\n\")\n"
   ]
  }
 ],
 "metadata": {
  "kernelspec": {
   "display_name": "Python 3",
   "language": "python",
   "name": "python3"
  },
  "language_info": {
   "codemirror_mode": {
    "name": "ipython",
    "version": 3
   },
   "file_extension": ".py",
   "mimetype": "text/x-python",
   "name": "python",
   "nbconvert_exporter": "python",
   "pygments_lexer": "ipython3",
   "version": "3.11.9"
  }
 },
 "nbformat": 4,
 "nbformat_minor": 5
}
